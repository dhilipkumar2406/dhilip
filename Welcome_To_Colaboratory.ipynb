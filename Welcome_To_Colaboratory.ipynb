{
  "nbformat": 4,
  "nbformat_minor": 0,
  "metadata": {
    "colab": {
      "name": "Welcome To Colaboratory",
      "provenance": [],
      "collapsed_sections": [],
      "include_colab_link": true
    },
    "kernelspec": {
      "display_name": "Python 3",
      "name": "python3"
    }
  },
  "cells": [
    {
      "cell_type": "markdown",
      "metadata": {
        "id": "view-in-github",
        "colab_type": "text"
      },
      "source": [
        "<a href=\"https://colab.research.google.com/github/dhilipkumar2406/dhilip/blob/master/Welcome_To_Colaboratory.ipynb\" target=\"_parent\"><img src=\"https://colab.research.google.com/assets/colab-badge.svg\" alt=\"Open In Colab\"/></a>"
      ]
    },
    {
      "cell_type": "markdown",
      "metadata": {
        "id": "SJ_JohDaAMUt"
      },
      "source": [
        " \n",
        "Lets upgrade python essentials day-2 Assignment¶\n",
        "Question 1 :  Try 5 Different functions of the String in Python."
      ]
    },
    {
      "cell_type": "code",
      "metadata": {
        "colab": {
          "base_uri": "https://localhost:8080/"
        },
        "id": "n0YUVghh9Qos",
        "outputId": "72135dd5-d873-4c71-c8bb-9f44fd80e0a4"
      },
      "source": [
        " \n",
        "# fun-1\n",
        "txt = \"hello, and welcome to my world.\"\n",
        "x = txt.capitalize()\n",
        "print (x)\n",
        "# fun-2\n",
        "y = txt.index(\"welcome\")\n",
        "print(y)\n",
        "# fun-3\n",
        "a = txt.split()\n",
        "print(a)\n",
        "# fun-4\n",
        "b = txt.isalpha()     #space is not considered as alphabet\n",
        "print(b)\n",
        "# fun-5\n",
        "z = txt.replace(\"world\", \"land\")\n",
        "print(z)"
      ],
      "execution_count": 7,
      "outputs": [
        {
          "output_type": "stream",
          "text": [
            "Hello, and welcome to my world.\n",
            "11\n",
            "['hello,', 'and', 'welcome', 'to', 'my', 'world.']\n",
            "False\n",
            "hello, and welcome to my land.\n"
          ],
          "name": "stdout"
        }
      ]
    },
    {
      "cell_type": "markdown",
      "metadata": {
        "id": "wBQVOs2WAZUL"
      },
      "source": [
        " \n",
        "Question 2 :¶  Try 5 Different functions of the List object in Python\n",
        "In [19]:"
      ]
    },
    {
      "cell_type": "code",
      "metadata": {
        "id": "dqdiglU-_ya1",
        "outputId": "33b660c5-5c79-428a-b5de-38dd447b26cd",
        "colab": {
          "base_uri": "https://localhost:8080/"
        }
      },
      "source": [
        " # fun-1\n",
        "fruits = ['apple', 'banana', 'cherry','cherry']\n",
        "fruits.append(\"orange\")\n",
        "print(fruits)\n",
        "# fun-2\n",
        "x=fruits.count(\"cherry\")\n",
        "print(x)\n",
        "# fun-3\n",
        "fruits.remove(\"banana\")\n",
        "print(fruits)\n",
        "# fun-4\n",
        "fruits.reverse()\n",
        "print(fruits)\n",
        "# fun-5\n",
        "fruits.pop(1)\n",
        "print(fruits)"
      ],
      "execution_count": 8,
      "outputs": [
        {
          "output_type": "stream",
          "text": [
            "['apple', 'banana', 'cherry', 'cherry', 'orange']\n",
            "2\n",
            "['apple', 'cherry', 'cherry', 'orange']\n",
            "['orange', 'cherry', 'cherry', 'apple']\n",
            "['orange', 'cherry', 'apple']\n"
          ],
          "name": "stdout"
        }
      ]
    },
    {
      "cell_type": "markdown",
      "metadata": {
        "id": "_uc6MTFCAkaQ"
      },
      "source": [
        " \n",
        "Question 3 :¶Experiment with at least 5 default functions of Dictionary\n",
        "In [24]:"
      ]
    },
    {
      "cell_type": "code",
      "metadata": {
        "id": "SwFQUt-d_-at",
        "outputId": "d7eeab2a-d2b1-4a7d-f2ec-13a559baa8dc",
        "colab": {
          "base_uri": "https://localhost:8080/"
        }
      },
      "source": [
        " # fun-1\n",
        "car = {  \"brand\": \"Ford\",  \"model\": \"Mustang\",  \"year\": 1964}\n",
        "x = car.get(\"model\")\n",
        "print(x)\n",
        "# fun-2\n",
        "y = car.items()\n",
        "print(y)\n",
        "# fun-3\n",
        "z = car.copy()\n",
        "print(z)\n",
        "# fun-4\n",
        "a = car.values()\n",
        "print(a)\n",
        "# fun-5\n",
        "car.update({\"color\": \"White\"})\n",
        "print(car)"
      ],
      "execution_count": 9,
      "outputs": [
        {
          "output_type": "stream",
          "text": [
            "Mustang\n",
            "dict_items([('brand', 'Ford'), ('model', 'Mustang'), ('year', 1964)])\n",
            "{'brand': 'Ford', 'model': 'Mustang', 'year': 1964}\n",
            "dict_values(['Ford', 'Mustang', 1964])\n",
            "{'brand': 'Ford', 'model': 'Mustang', 'year': 1964, 'color': 'White'}\n"
          ],
          "name": "stdout"
        }
      ]
    }
  ]
}